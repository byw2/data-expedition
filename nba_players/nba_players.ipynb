{
 "cells": [
  {
   "cell_type": "markdown",
   "metadata": {},
   "source": [
    "# NBA Players Through the Years"
   ]
  },
  {
   "cell_type": "markdown",
   "metadata": {},
   "source": [
    "This is a Data Science Project that will analyze players through the years from 1996 to 2019. The data used for the project is from the [NBA Players Dataset](https://www.kaggle.com/datasets/justinas/nba-players-data) by Justinas Cirtutas found on Kaggle."
   ]
  },
  {
   "cell_type": "markdown",
   "metadata": {},
   "source": [
    "### Import Libraries"
   ]
  },
  {
   "cell_type": "code",
   "execution_count": 223,
   "metadata": {},
   "outputs": [],
   "source": [
    "import pandas as pd\n",
    "import numpy as np\n",
    "import matplotlib\n",
    "import matplotlib.pyplot as plt\n",
    "import seaborn as sns\n",
    "from utils.scraper import load_dict"
   ]
  },
  {
   "cell_type": "markdown",
   "metadata": {},
   "source": [
    "### Loading the Raw Data"
   ]
  },
  {
   "cell_type": "code",
   "execution_count": 97,
   "metadata": {},
   "outputs": [],
   "source": [
    "raw_df = pd.read_csv('player_info.csv', index_col=False)"
   ]
  },
  {
   "cell_type": "markdown",
   "metadata": {},
   "source": [
    "### Cleaning the Raw Data"
   ]
  },
  {
   "cell_type": "markdown",
   "metadata": {},
   "source": [
    "The raw data had to be cleaned and properly formatted.\n",
    "\n",
    "To begin, I thought it would be useful to do some data analysis on the position of a player. However, I observed that the player positions are not included in the raw dataset. As such, I wrote a web scraping script that scraped data from the [Basketball Reference](https://www.basketball-reference.com/) website to get the positions of each NBA player in NBA history. The output of the scraping process is a dictionary mapping from names to positions, stored in a file called `names_to_positions.txt`. The scraping code is in `scraper.py`. \n",
    "\n",
    "Next, I mapped each player's name to their position using by creating a dictionary. The players' positions are added in a new column of the raw data frame. There was an issue, however, since many of the positions were `NaN`. As such, I investigated the raw data to find that there were many mismatches between the scraped names and the raw data names. To solve this, I wrote `data_cleaner.py` which removed accents from names and converted all scraped names to match those of the raw data. In particular, `name_mapping.txt` contains a name-to-name dictionary mapping that will be used to replace all scraped names with the names in the raw data. \n",
    "\n",
    "After this step, I discovered that many players in the raw data had many name alternatives. For instance, the player Marcus Morris appeared as both *Marcus Morris* and *Marcus Morris Sr.*. As such, `data_cleaner.py` also has a function that adds all the alternative names for such players."
   ]
  },
  {
   "cell_type": "markdown",
   "metadata": {},
   "source": [
    "### Preprocessing the Data"
   ]
  },
  {
   "cell_type": "code",
   "execution_count": 105,
   "metadata": {},
   "outputs": [],
   "source": [
    "def add_positions(raw_df, names_to_positions):\n",
    "    \"\"\"Adds positions for each player in the data frame\"\"\"\n",
    "    raw_df['positions'] = raw_df['player_name'].map(names_to_positions)\n",
    "    return raw_df"
   ]
  },
  {
   "cell_type": "code",
   "execution_count": 106,
   "metadata": {},
   "outputs": [],
   "source": [
    "def rename_columns(df, old_names: list, new_names: list):\n",
    "    \"\"\"Replace column names. Names in old names list are \n",
    "    element-wise paired with new names list.\"\"\"\n",
    "    column_names = dict(zip(old_names, new_names))\n",
    "    return df.rename(columns=column_names)"
   ]
  },
  {
   "cell_type": "code",
   "execution_count": 107,
   "metadata": {},
   "outputs": [],
   "source": [
    "fn = 'files/names_to_positions.txt'\n",
    "# dictionary mapping from names to positions\n",
    "names_to_positions = load_dict(fn)\n",
    "\n",
    "df = add_positions(raw_df, names_to_positions)"
   ]
  },
  {
   "cell_type": "code",
   "execution_count": 108,
   "metadata": {},
   "outputs": [],
   "source": [
    "df = df.drop('Unnamed: 0', axis=1)"
   ]
  },
  {
   "cell_type": "code",
   "execution_count": 109,
   "metadata": {
    "scrolled": true
   },
   "outputs": [],
   "source": [
    "old_names = list(df.columns)\n",
    "new_names = ['name', 'team', 'age', 'height', 'weight', 'college', \n",
    "             'country', 'draft_year', 'draft_round', 'draft_number', \n",
    "             'games_played', 'avg_pts', 'avg_rebs', 'avg_asts', 'pt_diff', \n",
    "             'off_rebs', 'def_rebs', 'usg_pct', 'ts_pct', 'ast_pct',\n",
    "             'season', 'position']\n",
    "df = rename_columns(df, old_names, new_names)"
   ]
  },
  {
   "cell_type": "markdown",
   "metadata": {},
   "source": [
    "We cleaned up the column names to make them more semantically meaningful. We clarify the meanings of the following column names below:\n",
    "* `height` - height (in cm)\n",
    "* `weight` - weight (in kg)\n",
    "* `team` - team at the end of the season\n",
    "* `country` - country of birth\n",
    "* `pt_diff` - points player's team scores minus points opponent scores per 100 possessions\n",
    "* `off_rebs`/`def_rebs` - percentage of offensive/defensive rebounds grabbed while on floor\n",
    "* `ast_pct` - percentage of teammates' field goals player assisted\n",
    "* `ts_pct` - true shooting percentage which is computed by calculating *(points scored / field goal attempts + (0.44 x free throw attempts)*"
   ]
  },
  {
   "cell_type": "code",
   "execution_count": 110,
   "metadata": {},
   "outputs": [
    {
     "data": {
      "text/html": [
       "<div>\n",
       "<style scoped>\n",
       "    .dataframe tbody tr th:only-of-type {\n",
       "        vertical-align: middle;\n",
       "    }\n",
       "\n",
       "    .dataframe tbody tr th {\n",
       "        vertical-align: top;\n",
       "    }\n",
       "\n",
       "    .dataframe thead th {\n",
       "        text-align: right;\n",
       "    }\n",
       "</style>\n",
       "<table border=\"1\" class=\"dataframe\">\n",
       "  <thead>\n",
       "    <tr style=\"text-align: right;\">\n",
       "      <th></th>\n",
       "      <th>name</th>\n",
       "      <th>team</th>\n",
       "      <th>age</th>\n",
       "      <th>height</th>\n",
       "      <th>weight</th>\n",
       "      <th>college</th>\n",
       "      <th>country</th>\n",
       "      <th>draft_year</th>\n",
       "      <th>draft_round</th>\n",
       "      <th>draft_number</th>\n",
       "      <th>...</th>\n",
       "      <th>avg_rebs</th>\n",
       "      <th>avg_asts</th>\n",
       "      <th>pt_diff</th>\n",
       "      <th>off_rebs</th>\n",
       "      <th>def_rebs</th>\n",
       "      <th>usg_pct</th>\n",
       "      <th>ts_pct</th>\n",
       "      <th>ast_pct</th>\n",
       "      <th>season</th>\n",
       "      <th>position</th>\n",
       "    </tr>\n",
       "  </thead>\n",
       "  <tbody>\n",
       "    <tr>\n",
       "      <th>0</th>\n",
       "      <td>Travis Knight</td>\n",
       "      <td>LAL</td>\n",
       "      <td>22.0</td>\n",
       "      <td>213.36</td>\n",
       "      <td>106.594120</td>\n",
       "      <td>Connecticut</td>\n",
       "      <td>USA</td>\n",
       "      <td>1996</td>\n",
       "      <td>1</td>\n",
       "      <td>29</td>\n",
       "      <td>...</td>\n",
       "      <td>4.5</td>\n",
       "      <td>0.5</td>\n",
       "      <td>6.2</td>\n",
       "      <td>0.127</td>\n",
       "      <td>0.182</td>\n",
       "      <td>0.142</td>\n",
       "      <td>0.536</td>\n",
       "      <td>0.052</td>\n",
       "      <td>1996-97</td>\n",
       "      <td>C</td>\n",
       "    </tr>\n",
       "    <tr>\n",
       "      <th>1</th>\n",
       "      <td>Matt Fish</td>\n",
       "      <td>MIA</td>\n",
       "      <td>27.0</td>\n",
       "      <td>210.82</td>\n",
       "      <td>106.594120</td>\n",
       "      <td>North Carolina-Wilmington</td>\n",
       "      <td>USA</td>\n",
       "      <td>1992</td>\n",
       "      <td>2</td>\n",
       "      <td>50</td>\n",
       "      <td>...</td>\n",
       "      <td>0.8</td>\n",
       "      <td>0.0</td>\n",
       "      <td>-15.1</td>\n",
       "      <td>0.143</td>\n",
       "      <td>0.267</td>\n",
       "      <td>0.265</td>\n",
       "      <td>0.333</td>\n",
       "      <td>0.000</td>\n",
       "      <td>1996-97</td>\n",
       "      <td>C</td>\n",
       "    </tr>\n",
       "    <tr>\n",
       "      <th>2</th>\n",
       "      <td>Matt Bullard</td>\n",
       "      <td>HOU</td>\n",
       "      <td>30.0</td>\n",
       "      <td>208.28</td>\n",
       "      <td>106.594120</td>\n",
       "      <td>Iowa</td>\n",
       "      <td>USA</td>\n",
       "      <td>Undrafted</td>\n",
       "      <td>Undrafted</td>\n",
       "      <td>Undrafted</td>\n",
       "      <td>...</td>\n",
       "      <td>1.6</td>\n",
       "      <td>0.9</td>\n",
       "      <td>0.9</td>\n",
       "      <td>0.016</td>\n",
       "      <td>0.115</td>\n",
       "      <td>0.151</td>\n",
       "      <td>0.535</td>\n",
       "      <td>0.099</td>\n",
       "      <td>1996-97</td>\n",
       "      <td>F</td>\n",
       "    </tr>\n",
       "    <tr>\n",
       "      <th>3</th>\n",
       "      <td>Marty Conlon</td>\n",
       "      <td>BOS</td>\n",
       "      <td>29.0</td>\n",
       "      <td>210.82</td>\n",
       "      <td>111.130040</td>\n",
       "      <td>Providence</td>\n",
       "      <td>USA</td>\n",
       "      <td>Undrafted</td>\n",
       "      <td>Undrafted</td>\n",
       "      <td>Undrafted</td>\n",
       "      <td>...</td>\n",
       "      <td>4.4</td>\n",
       "      <td>1.4</td>\n",
       "      <td>-9.0</td>\n",
       "      <td>0.083</td>\n",
       "      <td>0.152</td>\n",
       "      <td>0.167</td>\n",
       "      <td>0.542</td>\n",
       "      <td>0.101</td>\n",
       "      <td>1996-97</td>\n",
       "      <td>F-C</td>\n",
       "    </tr>\n",
       "    <tr>\n",
       "      <th>4</th>\n",
       "      <td>Martin Muursepp</td>\n",
       "      <td>DAL</td>\n",
       "      <td>22.0</td>\n",
       "      <td>205.74</td>\n",
       "      <td>106.594120</td>\n",
       "      <td>None</td>\n",
       "      <td>USA</td>\n",
       "      <td>1996</td>\n",
       "      <td>1</td>\n",
       "      <td>25</td>\n",
       "      <td>...</td>\n",
       "      <td>1.6</td>\n",
       "      <td>0.5</td>\n",
       "      <td>-14.5</td>\n",
       "      <td>0.109</td>\n",
       "      <td>0.118</td>\n",
       "      <td>0.233</td>\n",
       "      <td>0.482</td>\n",
       "      <td>0.114</td>\n",
       "      <td>1996-97</td>\n",
       "      <td>F</td>\n",
       "    </tr>\n",
       "    <tr>\n",
       "      <th>...</th>\n",
       "      <td>...</td>\n",
       "      <td>...</td>\n",
       "      <td>...</td>\n",
       "      <td>...</td>\n",
       "      <td>...</td>\n",
       "      <td>...</td>\n",
       "      <td>...</td>\n",
       "      <td>...</td>\n",
       "      <td>...</td>\n",
       "      <td>...</td>\n",
       "      <td>...</td>\n",
       "      <td>...</td>\n",
       "      <td>...</td>\n",
       "      <td>...</td>\n",
       "      <td>...</td>\n",
       "      <td>...</td>\n",
       "      <td>...</td>\n",
       "      <td>...</td>\n",
       "      <td>...</td>\n",
       "      <td>...</td>\n",
       "      <td>...</td>\n",
       "    </tr>\n",
       "    <tr>\n",
       "      <th>11695</th>\n",
       "      <td>Matthew Dellavedova</td>\n",
       "      <td>CLE</td>\n",
       "      <td>30.0</td>\n",
       "      <td>190.50</td>\n",
       "      <td>90.718400</td>\n",
       "      <td>St.Mary's College of California</td>\n",
       "      <td>Australia</td>\n",
       "      <td>Undrafted</td>\n",
       "      <td>Undrafted</td>\n",
       "      <td>Undrafted</td>\n",
       "      <td>...</td>\n",
       "      <td>1.8</td>\n",
       "      <td>4.5</td>\n",
       "      <td>-3.1</td>\n",
       "      <td>0.029</td>\n",
       "      <td>0.085</td>\n",
       "      <td>0.125</td>\n",
       "      <td>0.312</td>\n",
       "      <td>0.337</td>\n",
       "      <td>2020-21</td>\n",
       "      <td>G</td>\n",
       "    </tr>\n",
       "    <tr>\n",
       "      <th>11696</th>\n",
       "      <td>Maurice Harkless</td>\n",
       "      <td>SAC</td>\n",
       "      <td>28.0</td>\n",
       "      <td>200.66</td>\n",
       "      <td>99.790240</td>\n",
       "      <td>St. John's</td>\n",
       "      <td>USA</td>\n",
       "      <td>2012</td>\n",
       "      <td>1</td>\n",
       "      <td>15</td>\n",
       "      <td>...</td>\n",
       "      <td>2.4</td>\n",
       "      <td>1.2</td>\n",
       "      <td>-2.9</td>\n",
       "      <td>0.017</td>\n",
       "      <td>0.097</td>\n",
       "      <td>0.114</td>\n",
       "      <td>0.527</td>\n",
       "      <td>0.071</td>\n",
       "      <td>2020-21</td>\n",
       "      <td>F-G</td>\n",
       "    </tr>\n",
       "    <tr>\n",
       "      <th>11697</th>\n",
       "      <td>Max Strus</td>\n",
       "      <td>MIA</td>\n",
       "      <td>25.0</td>\n",
       "      <td>195.58</td>\n",
       "      <td>97.522280</td>\n",
       "      <td>DePaul</td>\n",
       "      <td>USA</td>\n",
       "      <td>Undrafted</td>\n",
       "      <td>Undrafted</td>\n",
       "      <td>Undrafted</td>\n",
       "      <td>...</td>\n",
       "      <td>1.1</td>\n",
       "      <td>0.6</td>\n",
       "      <td>-4.2</td>\n",
       "      <td>0.011</td>\n",
       "      <td>0.073</td>\n",
       "      <td>0.179</td>\n",
       "      <td>0.597</td>\n",
       "      <td>0.074</td>\n",
       "      <td>2020-21</td>\n",
       "      <td>G</td>\n",
       "    </tr>\n",
       "    <tr>\n",
       "      <th>11698</th>\n",
       "      <td>Marcus Morris Sr.</td>\n",
       "      <td>LAC</td>\n",
       "      <td>31.0</td>\n",
       "      <td>203.20</td>\n",
       "      <td>98.883056</td>\n",
       "      <td>Kansas</td>\n",
       "      <td>USA</td>\n",
       "      <td>2011</td>\n",
       "      <td>1</td>\n",
       "      <td>14</td>\n",
       "      <td>...</td>\n",
       "      <td>4.1</td>\n",
       "      <td>1.0</td>\n",
       "      <td>4.2</td>\n",
       "      <td>0.025</td>\n",
       "      <td>0.133</td>\n",
       "      <td>0.194</td>\n",
       "      <td>0.614</td>\n",
       "      <td>0.056</td>\n",
       "      <td>2020-21</td>\n",
       "      <td>F</td>\n",
       "    </tr>\n",
       "    <tr>\n",
       "      <th>11699</th>\n",
       "      <td>Aaron Gordon</td>\n",
       "      <td>DEN</td>\n",
       "      <td>25.0</td>\n",
       "      <td>203.20</td>\n",
       "      <td>106.594120</td>\n",
       "      <td>Arizona</td>\n",
       "      <td>USA</td>\n",
       "      <td>2014</td>\n",
       "      <td>1</td>\n",
       "      <td>4</td>\n",
       "      <td>...</td>\n",
       "      <td>5.7</td>\n",
       "      <td>3.2</td>\n",
       "      <td>2.1</td>\n",
       "      <td>0.055</td>\n",
       "      <td>0.150</td>\n",
       "      <td>0.204</td>\n",
       "      <td>0.547</td>\n",
       "      <td>0.165</td>\n",
       "      <td>2020-21</td>\n",
       "      <td>F</td>\n",
       "    </tr>\n",
       "  </tbody>\n",
       "</table>\n",
       "<p>11700 rows × 22 columns</p>\n",
       "</div>"
      ],
      "text/plain": [
       "                      name team   age  height      weight  \\\n",
       "0            Travis Knight  LAL  22.0  213.36  106.594120   \n",
       "1                Matt Fish  MIA  27.0  210.82  106.594120   \n",
       "2             Matt Bullard  HOU  30.0  208.28  106.594120   \n",
       "3             Marty Conlon  BOS  29.0  210.82  111.130040   \n",
       "4          Martin Muursepp  DAL  22.0  205.74  106.594120   \n",
       "...                    ...  ...   ...     ...         ...   \n",
       "11695  Matthew Dellavedova  CLE  30.0  190.50   90.718400   \n",
       "11696     Maurice Harkless  SAC  28.0  200.66   99.790240   \n",
       "11697            Max Strus  MIA  25.0  195.58   97.522280   \n",
       "11698    Marcus Morris Sr.  LAC  31.0  203.20   98.883056   \n",
       "11699         Aaron Gordon  DEN  25.0  203.20  106.594120   \n",
       "\n",
       "                               college    country draft_year draft_round  \\\n",
       "0                          Connecticut        USA       1996           1   \n",
       "1            North Carolina-Wilmington        USA       1992           2   \n",
       "2                                 Iowa        USA  Undrafted   Undrafted   \n",
       "3                           Providence        USA  Undrafted   Undrafted   \n",
       "4                                 None        USA       1996           1   \n",
       "...                                ...        ...        ...         ...   \n",
       "11695  St.Mary's College of California  Australia  Undrafted   Undrafted   \n",
       "11696                       St. John's        USA       2012           1   \n",
       "11697                           DePaul        USA  Undrafted   Undrafted   \n",
       "11698                           Kansas        USA       2011           1   \n",
       "11699                          Arizona        USA       2014           1   \n",
       "\n",
       "      draft_number  ...  avg_rebs  avg_asts  pt_diff  off_rebs  def_rebs  \\\n",
       "0               29  ...       4.5       0.5      6.2     0.127     0.182   \n",
       "1               50  ...       0.8       0.0    -15.1     0.143     0.267   \n",
       "2        Undrafted  ...       1.6       0.9      0.9     0.016     0.115   \n",
       "3        Undrafted  ...       4.4       1.4     -9.0     0.083     0.152   \n",
       "4               25  ...       1.6       0.5    -14.5     0.109     0.118   \n",
       "...            ...  ...       ...       ...      ...       ...       ...   \n",
       "11695    Undrafted  ...       1.8       4.5     -3.1     0.029     0.085   \n",
       "11696           15  ...       2.4       1.2     -2.9     0.017     0.097   \n",
       "11697    Undrafted  ...       1.1       0.6     -4.2     0.011     0.073   \n",
       "11698           14  ...       4.1       1.0      4.2     0.025     0.133   \n",
       "11699            4  ...       5.7       3.2      2.1     0.055     0.150   \n",
       "\n",
       "       usg_pct  ts_pct  ast_pct   season  position  \n",
       "0        0.142   0.536    0.052  1996-97         C  \n",
       "1        0.265   0.333    0.000  1996-97         C  \n",
       "2        0.151   0.535    0.099  1996-97         F  \n",
       "3        0.167   0.542    0.101  1996-97       F-C  \n",
       "4        0.233   0.482    0.114  1996-97         F  \n",
       "...        ...     ...      ...      ...       ...  \n",
       "11695    0.125   0.312    0.337  2020-21         G  \n",
       "11696    0.114   0.527    0.071  2020-21       F-G  \n",
       "11697    0.179   0.597    0.074  2020-21         G  \n",
       "11698    0.194   0.614    0.056  2020-21         F  \n",
       "11699    0.204   0.547    0.165  2020-21         F  \n",
       "\n",
       "[11700 rows x 22 columns]"
      ]
     },
     "execution_count": 110,
     "metadata": {},
     "output_type": "execute_result"
    }
   ],
   "source": [
    "df"
   ]
  },
  {
   "cell_type": "markdown",
   "metadata": {},
   "source": [
    "### Exploratory Data Analysis"
   ]
  },
  {
   "cell_type": "markdown",
   "metadata": {},
   "source": [
    "Here, we want to explore the data to get a sense of the structure and content. "
   ]
  },
  {
   "cell_type": "code",
   "execution_count": 111,
   "metadata": {
    "scrolled": true
   },
   "outputs": [
    {
     "data": {
      "text/html": [
       "<div>\n",
       "<style scoped>\n",
       "    .dataframe tbody tr th:only-of-type {\n",
       "        vertical-align: middle;\n",
       "    }\n",
       "\n",
       "    .dataframe tbody tr th {\n",
       "        vertical-align: top;\n",
       "    }\n",
       "\n",
       "    .dataframe thead th {\n",
       "        text-align: right;\n",
       "    }\n",
       "</style>\n",
       "<table border=\"1\" class=\"dataframe\">\n",
       "  <thead>\n",
       "    <tr style=\"text-align: right;\">\n",
       "      <th></th>\n",
       "      <th>name</th>\n",
       "      <th>team</th>\n",
       "      <th>age</th>\n",
       "      <th>height</th>\n",
       "      <th>weight</th>\n",
       "      <th>college</th>\n",
       "      <th>country</th>\n",
       "      <th>draft_year</th>\n",
       "      <th>draft_round</th>\n",
       "      <th>draft_number</th>\n",
       "      <th>...</th>\n",
       "      <th>avg_rebs</th>\n",
       "      <th>avg_asts</th>\n",
       "      <th>pt_diff</th>\n",
       "      <th>off_rebs</th>\n",
       "      <th>def_rebs</th>\n",
       "      <th>usg_pct</th>\n",
       "      <th>ts_pct</th>\n",
       "      <th>ast_pct</th>\n",
       "      <th>season</th>\n",
       "      <th>position</th>\n",
       "    </tr>\n",
       "  </thead>\n",
       "  <tbody>\n",
       "    <tr>\n",
       "      <th>0</th>\n",
       "      <td>Travis Knight</td>\n",
       "      <td>LAL</td>\n",
       "      <td>22.0</td>\n",
       "      <td>213.36</td>\n",
       "      <td>106.59412</td>\n",
       "      <td>Connecticut</td>\n",
       "      <td>USA</td>\n",
       "      <td>1996</td>\n",
       "      <td>1</td>\n",
       "      <td>29</td>\n",
       "      <td>...</td>\n",
       "      <td>4.5</td>\n",
       "      <td>0.5</td>\n",
       "      <td>6.2</td>\n",
       "      <td>0.127</td>\n",
       "      <td>0.182</td>\n",
       "      <td>0.142</td>\n",
       "      <td>0.536</td>\n",
       "      <td>0.052</td>\n",
       "      <td>1996-97</td>\n",
       "      <td>C</td>\n",
       "    </tr>\n",
       "    <tr>\n",
       "      <th>1</th>\n",
       "      <td>Matt Fish</td>\n",
       "      <td>MIA</td>\n",
       "      <td>27.0</td>\n",
       "      <td>210.82</td>\n",
       "      <td>106.59412</td>\n",
       "      <td>North Carolina-Wilmington</td>\n",
       "      <td>USA</td>\n",
       "      <td>1992</td>\n",
       "      <td>2</td>\n",
       "      <td>50</td>\n",
       "      <td>...</td>\n",
       "      <td>0.8</td>\n",
       "      <td>0.0</td>\n",
       "      <td>-15.1</td>\n",
       "      <td>0.143</td>\n",
       "      <td>0.267</td>\n",
       "      <td>0.265</td>\n",
       "      <td>0.333</td>\n",
       "      <td>0.000</td>\n",
       "      <td>1996-97</td>\n",
       "      <td>C</td>\n",
       "    </tr>\n",
       "    <tr>\n",
       "      <th>2</th>\n",
       "      <td>Matt Bullard</td>\n",
       "      <td>HOU</td>\n",
       "      <td>30.0</td>\n",
       "      <td>208.28</td>\n",
       "      <td>106.59412</td>\n",
       "      <td>Iowa</td>\n",
       "      <td>USA</td>\n",
       "      <td>Undrafted</td>\n",
       "      <td>Undrafted</td>\n",
       "      <td>Undrafted</td>\n",
       "      <td>...</td>\n",
       "      <td>1.6</td>\n",
       "      <td>0.9</td>\n",
       "      <td>0.9</td>\n",
       "      <td>0.016</td>\n",
       "      <td>0.115</td>\n",
       "      <td>0.151</td>\n",
       "      <td>0.535</td>\n",
       "      <td>0.099</td>\n",
       "      <td>1996-97</td>\n",
       "      <td>F</td>\n",
       "    </tr>\n",
       "    <tr>\n",
       "      <th>3</th>\n",
       "      <td>Marty Conlon</td>\n",
       "      <td>BOS</td>\n",
       "      <td>29.0</td>\n",
       "      <td>210.82</td>\n",
       "      <td>111.13004</td>\n",
       "      <td>Providence</td>\n",
       "      <td>USA</td>\n",
       "      <td>Undrafted</td>\n",
       "      <td>Undrafted</td>\n",
       "      <td>Undrafted</td>\n",
       "      <td>...</td>\n",
       "      <td>4.4</td>\n",
       "      <td>1.4</td>\n",
       "      <td>-9.0</td>\n",
       "      <td>0.083</td>\n",
       "      <td>0.152</td>\n",
       "      <td>0.167</td>\n",
       "      <td>0.542</td>\n",
       "      <td>0.101</td>\n",
       "      <td>1996-97</td>\n",
       "      <td>F-C</td>\n",
       "    </tr>\n",
       "    <tr>\n",
       "      <th>4</th>\n",
       "      <td>Martin Muursepp</td>\n",
       "      <td>DAL</td>\n",
       "      <td>22.0</td>\n",
       "      <td>205.74</td>\n",
       "      <td>106.59412</td>\n",
       "      <td>None</td>\n",
       "      <td>USA</td>\n",
       "      <td>1996</td>\n",
       "      <td>1</td>\n",
       "      <td>25</td>\n",
       "      <td>...</td>\n",
       "      <td>1.6</td>\n",
       "      <td>0.5</td>\n",
       "      <td>-14.5</td>\n",
       "      <td>0.109</td>\n",
       "      <td>0.118</td>\n",
       "      <td>0.233</td>\n",
       "      <td>0.482</td>\n",
       "      <td>0.114</td>\n",
       "      <td>1996-97</td>\n",
       "      <td>F</td>\n",
       "    </tr>\n",
       "  </tbody>\n",
       "</table>\n",
       "<p>5 rows × 22 columns</p>\n",
       "</div>"
      ],
      "text/plain": [
       "              name team   age  height     weight                    college  \\\n",
       "0    Travis Knight  LAL  22.0  213.36  106.59412                Connecticut   \n",
       "1        Matt Fish  MIA  27.0  210.82  106.59412  North Carolina-Wilmington   \n",
       "2     Matt Bullard  HOU  30.0  208.28  106.59412                       Iowa   \n",
       "3     Marty Conlon  BOS  29.0  210.82  111.13004                 Providence   \n",
       "4  Martin Muursepp  DAL  22.0  205.74  106.59412                       None   \n",
       "\n",
       "  country draft_year draft_round draft_number  ...  avg_rebs  avg_asts  \\\n",
       "0     USA       1996           1           29  ...       4.5       0.5   \n",
       "1     USA       1992           2           50  ...       0.8       0.0   \n",
       "2     USA  Undrafted   Undrafted    Undrafted  ...       1.6       0.9   \n",
       "3     USA  Undrafted   Undrafted    Undrafted  ...       4.4       1.4   \n",
       "4     USA       1996           1           25  ...       1.6       0.5   \n",
       "\n",
       "   pt_diff  off_rebs  def_rebs  usg_pct  ts_pct  ast_pct   season  position  \n",
       "0      6.2     0.127     0.182    0.142   0.536    0.052  1996-97         C  \n",
       "1    -15.1     0.143     0.267    0.265   0.333    0.000  1996-97         C  \n",
       "2      0.9     0.016     0.115    0.151   0.535    0.099  1996-97         F  \n",
       "3     -9.0     0.083     0.152    0.167   0.542    0.101  1996-97       F-C  \n",
       "4    -14.5     0.109     0.118    0.233   0.482    0.114  1996-97         F  \n",
       "\n",
       "[5 rows x 22 columns]"
      ]
     },
     "execution_count": 111,
     "metadata": {},
     "output_type": "execute_result"
    }
   ],
   "source": [
    "df.head()"
   ]
  },
  {
   "cell_type": "code",
   "execution_count": 112,
   "metadata": {},
   "outputs": [
    {
     "name": "stdout",
     "output_type": "stream",
     "text": [
      "Great! All players have a corresponding position.\n"
     ]
    }
   ],
   "source": [
    "if len(df[df.position.isna()]) == 0: \n",
    "    print(\"Great! All players have a corresponding position.\")\n",
    "else:\n",
    "    print(\"The following players below do not have a corresponding position:\")\n",
    "    print(list(df[df.position.isna()].player_name))"
   ]
  },
  {
   "cell_type": "markdown",
   "metadata": {},
   "source": [
    "Perfect! The above tells us that there are no players that do not have a position attached to them. In other words, every player in our data frame has a position."
   ]
  },
  {
   "cell_type": "code",
   "execution_count": 113,
   "metadata": {},
   "outputs": [
    {
     "name": "stdout",
     "output_type": "stream",
     "text": [
      "<class 'pandas.core.frame.DataFrame'>\n",
      "RangeIndex: 11700 entries, 0 to 11699\n",
      "Data columns (total 22 columns):\n",
      " #   Column        Non-Null Count  Dtype  \n",
      "---  ------        --------------  -----  \n",
      " 0   name          11700 non-null  object \n",
      " 1   team          11700 non-null  object \n",
      " 2   age           11700 non-null  float64\n",
      " 3   height        11700 non-null  float64\n",
      " 4   weight        11700 non-null  float64\n",
      " 5   college       11700 non-null  object \n",
      " 6   country       11700 non-null  object \n",
      " 7   draft_year    11700 non-null  object \n",
      " 8   draft_round   11700 non-null  object \n",
      " 9   draft_number  11700 non-null  object \n",
      " 10  games_played  11700 non-null  int64  \n",
      " 11  avg_pts       11700 non-null  float64\n",
      " 12  avg_rebs      11700 non-null  float64\n",
      " 13  avg_asts      11700 non-null  float64\n",
      " 14  pt_diff       11700 non-null  float64\n",
      " 15  off_rebs      11700 non-null  float64\n",
      " 16  def_rebs      11700 non-null  float64\n",
      " 17  usg_pct       11700 non-null  float64\n",
      " 18  ts_pct        11700 non-null  float64\n",
      " 19  ast_pct       11700 non-null  float64\n",
      " 20  season        11700 non-null  object \n",
      " 21  position      11700 non-null  object \n",
      "dtypes: float64(12), int64(1), object(9)\n",
      "memory usage: 2.0+ MB\n"
     ]
    }
   ],
   "source": [
    "# gets column names, number of non-null count, and type\n",
    "df.info()"
   ]
  },
  {
   "cell_type": "code",
   "execution_count": 114,
   "metadata": {},
   "outputs": [
    {
     "data": {
      "text/plain": [
       "(11700, 22)"
      ]
     },
     "execution_count": 114,
     "metadata": {},
     "output_type": "execute_result"
    }
   ],
   "source": [
    "df.shape"
   ]
  },
  {
   "cell_type": "markdown",
   "metadata": {},
   "source": [
    "Great! We have 22 total columns and 17,000 observations in total. Also, our dataset is perfectly clean, namely there are no missing values for any of the variables."
   ]
  },
  {
   "cell_type": "code",
   "execution_count": 115,
   "metadata": {},
   "outputs": [
    {
     "data": {
      "text/plain": [
       "2"
      ]
     },
     "execution_count": 115,
     "metadata": {},
     "output_type": "execute_result"
    }
   ],
   "source": [
    "# gets dimension of object (data frame)\n",
    "df.ndim"
   ]
  },
  {
   "cell_type": "code",
   "execution_count": 116,
   "metadata": {},
   "outputs": [
    {
     "data": {
      "text/html": [
       "<div>\n",
       "<style scoped>\n",
       "    .dataframe tbody tr th:only-of-type {\n",
       "        vertical-align: middle;\n",
       "    }\n",
       "\n",
       "    .dataframe tbody tr th {\n",
       "        vertical-align: top;\n",
       "    }\n",
       "\n",
       "    .dataframe thead th {\n",
       "        text-align: right;\n",
       "    }\n",
       "</style>\n",
       "<table border=\"1\" class=\"dataframe\">\n",
       "  <thead>\n",
       "    <tr style=\"text-align: right;\">\n",
       "      <th></th>\n",
       "      <th>age</th>\n",
       "      <th>height</th>\n",
       "      <th>weight</th>\n",
       "      <th>games_played</th>\n",
       "      <th>avg_pts</th>\n",
       "      <th>avg_rebs</th>\n",
       "      <th>avg_asts</th>\n",
       "      <th>pt_diff</th>\n",
       "      <th>off_rebs</th>\n",
       "      <th>def_rebs</th>\n",
       "      <th>usg_pct</th>\n",
       "      <th>ts_pct</th>\n",
       "      <th>ast_pct</th>\n",
       "    </tr>\n",
       "  </thead>\n",
       "  <tbody>\n",
       "    <tr>\n",
       "      <th>count</th>\n",
       "      <td>11700.000000</td>\n",
       "      <td>11700.000000</td>\n",
       "      <td>11700.000000</td>\n",
       "      <td>11700.000000</td>\n",
       "      <td>11700.000000</td>\n",
       "      <td>11700.000000</td>\n",
       "      <td>11700.000000</td>\n",
       "      <td>11700.000000</td>\n",
       "      <td>11700.000000</td>\n",
       "      <td>11700.000000</td>\n",
       "      <td>11700.000000</td>\n",
       "      <td>11700.000000</td>\n",
       "      <td>11700.000000</td>\n",
       "    </tr>\n",
       "    <tr>\n",
       "      <th>mean</th>\n",
       "      <td>27.131966</td>\n",
       "      <td>200.728501</td>\n",
       "      <td>100.526791</td>\n",
       "      <td>51.717179</td>\n",
       "      <td>8.169299</td>\n",
       "      <td>3.564957</td>\n",
       "      <td>1.811179</td>\n",
       "      <td>-2.166410</td>\n",
       "      <td>0.054981</td>\n",
       "      <td>0.141534</td>\n",
       "      <td>0.185380</td>\n",
       "      <td>0.510402</td>\n",
       "      <td>0.131228</td>\n",
       "    </tr>\n",
       "    <tr>\n",
       "      <th>std</th>\n",
       "      <td>4.340006</td>\n",
       "      <td>9.169827</td>\n",
       "      <td>12.526481</td>\n",
       "      <td>24.985236</td>\n",
       "      <td>5.956115</td>\n",
       "      <td>2.487498</td>\n",
       "      <td>1.792117</td>\n",
       "      <td>12.076914</td>\n",
       "      <td>0.043595</td>\n",
       "      <td>0.062793</td>\n",
       "      <td>0.052957</td>\n",
       "      <td>0.098306</td>\n",
       "      <td>0.094244</td>\n",
       "    </tr>\n",
       "    <tr>\n",
       "      <th>min</th>\n",
       "      <td>18.000000</td>\n",
       "      <td>160.020000</td>\n",
       "      <td>60.327736</td>\n",
       "      <td>1.000000</td>\n",
       "      <td>0.000000</td>\n",
       "      <td>0.000000</td>\n",
       "      <td>0.000000</td>\n",
       "      <td>-200.000000</td>\n",
       "      <td>0.000000</td>\n",
       "      <td>0.000000</td>\n",
       "      <td>0.000000</td>\n",
       "      <td>0.000000</td>\n",
       "      <td>0.000000</td>\n",
       "    </tr>\n",
       "    <tr>\n",
       "      <th>25%</th>\n",
       "      <td>24.000000</td>\n",
       "      <td>193.040000</td>\n",
       "      <td>90.718400</td>\n",
       "      <td>32.000000</td>\n",
       "      <td>3.600000</td>\n",
       "      <td>1.800000</td>\n",
       "      <td>0.600000</td>\n",
       "      <td>-6.300000</td>\n",
       "      <td>0.021000</td>\n",
       "      <td>0.096000</td>\n",
       "      <td>0.150000</td>\n",
       "      <td>0.479000</td>\n",
       "      <td>0.065000</td>\n",
       "    </tr>\n",
       "    <tr>\n",
       "      <th>50%</th>\n",
       "      <td>26.000000</td>\n",
       "      <td>200.660000</td>\n",
       "      <td>99.790240</td>\n",
       "      <td>58.000000</td>\n",
       "      <td>6.700000</td>\n",
       "      <td>3.000000</td>\n",
       "      <td>1.200000</td>\n",
       "      <td>-1.300000</td>\n",
       "      <td>0.042000</td>\n",
       "      <td>0.132000</td>\n",
       "      <td>0.182000</td>\n",
       "      <td>0.523000</td>\n",
       "      <td>0.103000</td>\n",
       "    </tr>\n",
       "    <tr>\n",
       "      <th>75%</th>\n",
       "      <td>30.000000</td>\n",
       "      <td>208.280000</td>\n",
       "      <td>108.862080</td>\n",
       "      <td>74.000000</td>\n",
       "      <td>11.500000</td>\n",
       "      <td>4.700000</td>\n",
       "      <td>2.400000</td>\n",
       "      <td>3.200000</td>\n",
       "      <td>0.084000</td>\n",
       "      <td>0.180000</td>\n",
       "      <td>0.218000</td>\n",
       "      <td>0.559000</td>\n",
       "      <td>0.178000</td>\n",
       "    </tr>\n",
       "    <tr>\n",
       "      <th>max</th>\n",
       "      <td>44.000000</td>\n",
       "      <td>231.140000</td>\n",
       "      <td>163.293120</td>\n",
       "      <td>85.000000</td>\n",
       "      <td>36.100000</td>\n",
       "      <td>16.300000</td>\n",
       "      <td>11.700000</td>\n",
       "      <td>300.000000</td>\n",
       "      <td>1.000000</td>\n",
       "      <td>1.000000</td>\n",
       "      <td>1.000000</td>\n",
       "      <td>1.500000</td>\n",
       "      <td>1.000000</td>\n",
       "    </tr>\n",
       "  </tbody>\n",
       "</table>\n",
       "</div>"
      ],
      "text/plain": [
       "                age        height        weight  games_played       avg_pts  \\\n",
       "count  11700.000000  11700.000000  11700.000000  11700.000000  11700.000000   \n",
       "mean      27.131966    200.728501    100.526791     51.717179      8.169299   \n",
       "std        4.340006      9.169827     12.526481     24.985236      5.956115   \n",
       "min       18.000000    160.020000     60.327736      1.000000      0.000000   \n",
       "25%       24.000000    193.040000     90.718400     32.000000      3.600000   \n",
       "50%       26.000000    200.660000     99.790240     58.000000      6.700000   \n",
       "75%       30.000000    208.280000    108.862080     74.000000     11.500000   \n",
       "max       44.000000    231.140000    163.293120     85.000000     36.100000   \n",
       "\n",
       "           avg_rebs      avg_asts       pt_diff      off_rebs      def_rebs  \\\n",
       "count  11700.000000  11700.000000  11700.000000  11700.000000  11700.000000   \n",
       "mean       3.564957      1.811179     -2.166410      0.054981      0.141534   \n",
       "std        2.487498      1.792117     12.076914      0.043595      0.062793   \n",
       "min        0.000000      0.000000   -200.000000      0.000000      0.000000   \n",
       "25%        1.800000      0.600000     -6.300000      0.021000      0.096000   \n",
       "50%        3.000000      1.200000     -1.300000      0.042000      0.132000   \n",
       "75%        4.700000      2.400000      3.200000      0.084000      0.180000   \n",
       "max       16.300000     11.700000    300.000000      1.000000      1.000000   \n",
       "\n",
       "            usg_pct        ts_pct       ast_pct  \n",
       "count  11700.000000  11700.000000  11700.000000  \n",
       "mean       0.185380      0.510402      0.131228  \n",
       "std        0.052957      0.098306      0.094244  \n",
       "min        0.000000      0.000000      0.000000  \n",
       "25%        0.150000      0.479000      0.065000  \n",
       "50%        0.182000      0.523000      0.103000  \n",
       "75%        0.218000      0.559000      0.178000  \n",
       "max        1.000000      1.500000      1.000000  "
      ]
     },
     "execution_count": 116,
     "metadata": {},
     "output_type": "execute_result"
    }
   ],
   "source": [
    "df.describe()"
   ]
  },
  {
   "cell_type": "markdown",
   "metadata": {},
   "source": [
    "The above a gets statistical summary for numerical columns. Several observations:\n",
    "1. The average player age is 27. Not too surprising.\n",
    "2. The average player height is 200.72 cm or about 6'7''. Not too surprising. However, the tallest player was 7'7''...that's very tall!\n",
    "3. The average number of games played is about 51 to 52 games. A season has 82 games in total. Is this due to injuries or players needing rest? Also, how come the maximum games played is 85? \n",
    "\n",
    "These are just preliminary insights. More insights can be drawn from univariate distribution visualizations."
   ]
  },
  {
   "cell_type": "code",
   "execution_count": 117,
   "metadata": {},
   "outputs": [
    {
     "data": {
      "text/html": [
       "<div>\n",
       "<style scoped>\n",
       "    .dataframe tbody tr th:only-of-type {\n",
       "        vertical-align: middle;\n",
       "    }\n",
       "\n",
       "    .dataframe tbody tr th {\n",
       "        vertical-align: top;\n",
       "    }\n",
       "\n",
       "    .dataframe thead th {\n",
       "        text-align: right;\n",
       "    }\n",
       "</style>\n",
       "<table border=\"1\" class=\"dataframe\">\n",
       "  <thead>\n",
       "    <tr style=\"text-align: right;\">\n",
       "      <th></th>\n",
       "      <th>name</th>\n",
       "      <th>team</th>\n",
       "      <th>college</th>\n",
       "      <th>country</th>\n",
       "      <th>draft_year</th>\n",
       "      <th>draft_round</th>\n",
       "      <th>draft_number</th>\n",
       "      <th>season</th>\n",
       "      <th>position</th>\n",
       "    </tr>\n",
       "  </thead>\n",
       "  <tbody>\n",
       "    <tr>\n",
       "      <th>count</th>\n",
       "      <td>11700</td>\n",
       "      <td>11700</td>\n",
       "      <td>11700</td>\n",
       "      <td>11700</td>\n",
       "      <td>11700</td>\n",
       "      <td>11700</td>\n",
       "      <td>11700</td>\n",
       "      <td>11700</td>\n",
       "      <td>11700</td>\n",
       "    </tr>\n",
       "    <tr>\n",
       "      <th>unique</th>\n",
       "      <td>2333</td>\n",
       "      <td>36</td>\n",
       "      <td>336</td>\n",
       "      <td>79</td>\n",
       "      <td>46</td>\n",
       "      <td>9</td>\n",
       "      <td>76</td>\n",
       "      <td>25</td>\n",
       "      <td>7</td>\n",
       "    </tr>\n",
       "    <tr>\n",
       "      <th>top</th>\n",
       "      <td>Vince Carter</td>\n",
       "      <td>CLE</td>\n",
       "      <td>None</td>\n",
       "      <td>USA</td>\n",
       "      <td>Undrafted</td>\n",
       "      <td>1</td>\n",
       "      <td>Undrafted</td>\n",
       "      <td>2020-21</td>\n",
       "      <td>G</td>\n",
       "    </tr>\n",
       "    <tr>\n",
       "      <th>freq</th>\n",
       "      <td>22</td>\n",
       "      <td>411</td>\n",
       "      <td>1715</td>\n",
       "      <td>9836</td>\n",
       "      <td>2057</td>\n",
       "      <td>6792</td>\n",
       "      <td>2096</td>\n",
       "      <td>540</td>\n",
       "      <td>4049</td>\n",
       "    </tr>\n",
       "  </tbody>\n",
       "</table>\n",
       "</div>"
      ],
      "text/plain": [
       "                name   team college country draft_year draft_round  \\\n",
       "count          11700  11700   11700   11700      11700       11700   \n",
       "unique          2333     36     336      79         46           9   \n",
       "top     Vince Carter    CLE    None     USA  Undrafted           1   \n",
       "freq              22    411    1715    9836       2057        6792   \n",
       "\n",
       "       draft_number   season position  \n",
       "count         11700    11700    11700  \n",
       "unique           76       25        7  \n",
       "top       Undrafted  2020-21        G  \n",
       "freq           2096      540     4049  "
      ]
     },
     "execution_count": 117,
     "metadata": {},
     "output_type": "execute_result"
    }
   ],
   "source": [
    "df.describe(include=['O'])"
   ]
  },
  {
   "cell_type": "markdown",
   "metadata": {},
   "source": [
    "The above gets a statistical summary for categorial variables. Several observations:\n",
    "1. Vince Carter has played 22 seasons, the most of any player in the dataset. Dedicated veteran who still got the juice!\n",
    "2. The most common college is...no college at all. Is this actually the case?\n",
    "3. Most NBA players were undrafted.\n",
    "4. The most common position in this dataset is G."
   ]
  },
  {
   "cell_type": "markdown",
   "metadata": {},
   "source": [
    "Let's get some answers to the previous questions."
   ]
  },
  {
   "cell_type": "code",
   "execution_count": 118,
   "metadata": {},
   "outputs": [
    {
     "data": {
      "text/html": [
       "<div>\n",
       "<style scoped>\n",
       "    .dataframe tbody tr th:only-of-type {\n",
       "        vertical-align: middle;\n",
       "    }\n",
       "\n",
       "    .dataframe tbody tr th {\n",
       "        vertical-align: top;\n",
       "    }\n",
       "\n",
       "    .dataframe thead th {\n",
       "        text-align: right;\n",
       "    }\n",
       "</style>\n",
       "<table border=\"1\" class=\"dataframe\">\n",
       "  <thead>\n",
       "    <tr style=\"text-align: right;\">\n",
       "      <th></th>\n",
       "      <th>name</th>\n",
       "      <th>season</th>\n",
       "      <th>games_played</th>\n",
       "    </tr>\n",
       "  </thead>\n",
       "  <tbody>\n",
       "    <tr>\n",
       "      <th>1725</th>\n",
       "      <td>Chris Gatling</td>\n",
       "      <td>1999-00</td>\n",
       "      <td>85</td>\n",
       "    </tr>\n",
       "    <tr>\n",
       "      <th>3191</th>\n",
       "      <td>Shareef Abdur-Rahim</td>\n",
       "      <td>2003-04</td>\n",
       "      <td>85</td>\n",
       "    </tr>\n",
       "    <tr>\n",
       "      <th>3236</th>\n",
       "      <td>Theo Ratliff</td>\n",
       "      <td>2003-04</td>\n",
       "      <td>85</td>\n",
       "    </tr>\n",
       "  </tbody>\n",
       "</table>\n",
       "</div>"
      ],
      "text/plain": [
       "                     name   season  games_played\n",
       "1725        Chris Gatling  1999-00            85\n",
       "3191  Shareef Abdur-Rahim  2003-04            85\n",
       "3236         Theo Ratliff  2003-04            85"
      ]
     },
     "execution_count": 118,
     "metadata": {},
     "output_type": "execute_result"
    }
   ],
   "source": [
    "df[df.games_played == df.games_played.max()][['name', 'season', 'games_played']]"
   ]
  },
  {
   "cell_type": "markdown",
   "metadata": {},
   "source": [
    "These three players have played 85 games in a season. The explanation behind this is that these players have changed teams in a season, making them play more than the 82 game standard which is the total number of games *for a given team*."
   ]
  },
  {
   "cell_type": "code",
   "execution_count": 119,
   "metadata": {},
   "outputs": [
    {
     "data": {
      "text/html": [
       "<div>\n",
       "<style scoped>\n",
       "    .dataframe tbody tr th:only-of-type {\n",
       "        vertical-align: middle;\n",
       "    }\n",
       "\n",
       "    .dataframe tbody tr th {\n",
       "        vertical-align: top;\n",
       "    }\n",
       "\n",
       "    .dataframe thead th {\n",
       "        text-align: right;\n",
       "    }\n",
       "</style>\n",
       "<table border=\"1\" class=\"dataframe\">\n",
       "  <thead>\n",
       "    <tr style=\"text-align: right;\">\n",
       "      <th></th>\n",
       "      <th>name</th>\n",
       "      <th>season</th>\n",
       "      <th>height</th>\n",
       "    </tr>\n",
       "  </thead>\n",
       "  <tbody>\n",
       "    <tr>\n",
       "      <th>357</th>\n",
       "      <td>Gheorghe Muresan</td>\n",
       "      <td>1996-97</td>\n",
       "      <td>231.14</td>\n",
       "    </tr>\n",
       "    <tr>\n",
       "      <th>953</th>\n",
       "      <td>Gheorghe Muresan</td>\n",
       "      <td>1998-99</td>\n",
       "      <td>231.14</td>\n",
       "    </tr>\n",
       "    <tr>\n",
       "      <th>1657</th>\n",
       "      <td>Gheorghe Muresan</td>\n",
       "      <td>1999-00</td>\n",
       "      <td>231.14</td>\n",
       "    </tr>\n",
       "  </tbody>\n",
       "</table>\n",
       "</div>"
      ],
      "text/plain": [
       "                  name   season  height\n",
       "357   Gheorghe Muresan  1996-97  231.14\n",
       "953   Gheorghe Muresan  1998-99  231.14\n",
       "1657  Gheorghe Muresan  1999-00  231.14"
      ]
     },
     "execution_count": 119,
     "metadata": {},
     "output_type": "execute_result"
    }
   ],
   "source": [
    "df[df.height == df.height.max()][['name', 'season', 'height']]"
   ]
  },
  {
   "cell_type": "markdown",
   "metadata": {},
   "source": [
    "Tallest player was Gheorghe Muresan at 7'7''."
   ]
  },
  {
   "cell_type": "code",
   "execution_count": 120,
   "metadata": {},
   "outputs": [
    {
     "data": {
      "text/html": [
       "<div>\n",
       "<style scoped>\n",
       "    .dataframe tbody tr th:only-of-type {\n",
       "        vertical-align: middle;\n",
       "    }\n",
       "\n",
       "    .dataframe tbody tr th {\n",
       "        vertical-align: top;\n",
       "    }\n",
       "\n",
       "    .dataframe thead th {\n",
       "        text-align: right;\n",
       "    }\n",
       "</style>\n",
       "<table border=\"1\" class=\"dataframe\">\n",
       "  <thead>\n",
       "    <tr style=\"text-align: right;\">\n",
       "      <th></th>\n",
       "      <th>name</th>\n",
       "      <th>season</th>\n",
       "      <th>weight</th>\n",
       "    </tr>\n",
       "  </thead>\n",
       "  <tbody>\n",
       "    <tr>\n",
       "      <th>8428</th>\n",
       "      <td>Sim Bhullar</td>\n",
       "      <td>2014-15</td>\n",
       "      <td>163.29312</td>\n",
       "    </tr>\n",
       "  </tbody>\n",
       "</table>\n",
       "</div>"
      ],
      "text/plain": [
       "             name   season     weight\n",
       "8428  Sim Bhullar  2014-15  163.29312"
      ]
     },
     "execution_count": 120,
     "metadata": {},
     "output_type": "execute_result"
    }
   ],
   "source": [
    "df[df.weight == df.weight.max()][['name', 'season', 'weight']]"
   ]
  },
  {
   "cell_type": "markdown",
   "metadata": {},
   "source": [
    "Heaviest player was Sim Bhullar, who weighed 359 lbs."
   ]
  },
  {
   "cell_type": "code",
   "execution_count": 121,
   "metadata": {},
   "outputs": [
    {
     "data": {
      "text/html": [
       "<div>\n",
       "<style scoped>\n",
       "    .dataframe tbody tr th:only-of-type {\n",
       "        vertical-align: middle;\n",
       "    }\n",
       "\n",
       "    .dataframe tbody tr th {\n",
       "        vertical-align: top;\n",
       "    }\n",
       "\n",
       "    .dataframe thead th {\n",
       "        text-align: right;\n",
       "    }\n",
       "</style>\n",
       "<table border=\"1\" class=\"dataframe\">\n",
       "  <thead>\n",
       "    <tr style=\"text-align: right;\">\n",
       "      <th></th>\n",
       "      <th>name</th>\n",
       "      <th>team</th>\n",
       "      <th>age</th>\n",
       "      <th>height</th>\n",
       "      <th>weight</th>\n",
       "      <th>college</th>\n",
       "      <th>country</th>\n",
       "      <th>draft_year</th>\n",
       "      <th>draft_round</th>\n",
       "      <th>draft_number</th>\n",
       "      <th>...</th>\n",
       "      <th>avg_rebs</th>\n",
       "      <th>avg_asts</th>\n",
       "      <th>pt_diff</th>\n",
       "      <th>off_rebs</th>\n",
       "      <th>def_rebs</th>\n",
       "      <th>usg_pct</th>\n",
       "      <th>ts_pct</th>\n",
       "      <th>ast_pct</th>\n",
       "      <th>season</th>\n",
       "      <th>position</th>\n",
       "    </tr>\n",
       "  </thead>\n",
       "  <tbody>\n",
       "    <tr>\n",
       "      <th>4</th>\n",
       "      <td>Martin Muursepp</td>\n",
       "      <td>DAL</td>\n",
       "      <td>22.0</td>\n",
       "      <td>205.74</td>\n",
       "      <td>106.59412</td>\n",
       "      <td>None</td>\n",
       "      <td>USA</td>\n",
       "      <td>1996</td>\n",
       "      <td>1</td>\n",
       "      <td>25</td>\n",
       "      <td>...</td>\n",
       "      <td>1.6</td>\n",
       "      <td>0.5</td>\n",
       "      <td>-14.5</td>\n",
       "      <td>0.109</td>\n",
       "      <td>0.118</td>\n",
       "      <td>0.233</td>\n",
       "      <td>0.482</td>\n",
       "      <td>0.114</td>\n",
       "      <td>1996-97</td>\n",
       "      <td>F</td>\n",
       "    </tr>\n",
       "    <tr>\n",
       "      <th>13</th>\n",
       "      <td>Mark Bradtke</td>\n",
       "      <td>PHI</td>\n",
       "      <td>28.0</td>\n",
       "      <td>208.28</td>\n",
       "      <td>120.20188</td>\n",
       "      <td>None</td>\n",
       "      <td>USA</td>\n",
       "      <td>Undrafted</td>\n",
       "      <td>Undrafted</td>\n",
       "      <td>Undrafted</td>\n",
       "      <td>...</td>\n",
       "      <td>1.9</td>\n",
       "      <td>0.2</td>\n",
       "      <td>0.9</td>\n",
       "      <td>0.107</td>\n",
       "      <td>0.176</td>\n",
       "      <td>0.118</td>\n",
       "      <td>0.463</td>\n",
       "      <td>0.043</td>\n",
       "      <td>1996-97</td>\n",
       "      <td>C-F</td>\n",
       "    </tr>\n",
       "    <tr>\n",
       "      <th>96</th>\n",
       "      <td>Kobe Bryant</td>\n",
       "      <td>LAL</td>\n",
       "      <td>18.0</td>\n",
       "      <td>200.66</td>\n",
       "      <td>90.71840</td>\n",
       "      <td>None</td>\n",
       "      <td>USA</td>\n",
       "      <td>1996</td>\n",
       "      <td>1</td>\n",
       "      <td>13</td>\n",
       "      <td>...</td>\n",
       "      <td>1.9</td>\n",
       "      <td>1.3</td>\n",
       "      <td>2.2</td>\n",
       "      <td>0.048</td>\n",
       "      <td>0.084</td>\n",
       "      <td>0.244</td>\n",
       "      <td>0.544</td>\n",
       "      <td>0.144</td>\n",
       "      <td>1996-97</td>\n",
       "      <td>G-F</td>\n",
       "    </tr>\n",
       "    <tr>\n",
       "      <th>101</th>\n",
       "      <td>Kevin Garnett</td>\n",
       "      <td>MIN</td>\n",
       "      <td>21.0</td>\n",
       "      <td>210.82</td>\n",
       "      <td>99.79024</td>\n",
       "      <td>None</td>\n",
       "      <td>USA</td>\n",
       "      <td>1995</td>\n",
       "      <td>1</td>\n",
       "      <td>5</td>\n",
       "      <td>...</td>\n",
       "      <td>8.0</td>\n",
       "      <td>3.1</td>\n",
       "      <td>2.8</td>\n",
       "      <td>0.077</td>\n",
       "      <td>0.166</td>\n",
       "      <td>0.215</td>\n",
       "      <td>0.537</td>\n",
       "      <td>0.139</td>\n",
       "      <td>1996-97</td>\n",
       "      <td>F-C</td>\n",
       "    </tr>\n",
       "  </tbody>\n",
       "</table>\n",
       "<p>4 rows × 22 columns</p>\n",
       "</div>"
      ],
      "text/plain": [
       "                name team   age  height     weight college country draft_year  \\\n",
       "4    Martin Muursepp  DAL  22.0  205.74  106.59412    None     USA       1996   \n",
       "13      Mark Bradtke  PHI  28.0  208.28  120.20188    None     USA  Undrafted   \n",
       "96       Kobe Bryant  LAL  18.0  200.66   90.71840    None     USA       1996   \n",
       "101    Kevin Garnett  MIN  21.0  210.82   99.79024    None     USA       1995   \n",
       "\n",
       "    draft_round draft_number  ...  avg_rebs  avg_asts  pt_diff  off_rebs  \\\n",
       "4             1           25  ...       1.6       0.5    -14.5     0.109   \n",
       "13    Undrafted    Undrafted  ...       1.9       0.2      0.9     0.107   \n",
       "96            1           13  ...       1.9       1.3      2.2     0.048   \n",
       "101           1            5  ...       8.0       3.1      2.8     0.077   \n",
       "\n",
       "     def_rebs  usg_pct  ts_pct  ast_pct   season  position  \n",
       "4       0.118    0.233   0.482    0.114  1996-97         F  \n",
       "13      0.176    0.118   0.463    0.043  1996-97       C-F  \n",
       "96      0.084    0.244   0.544    0.144  1996-97       G-F  \n",
       "101     0.166    0.215   0.537    0.139  1996-97       F-C  \n",
       "\n",
       "[4 rows x 22 columns]"
      ]
     },
     "execution_count": 121,
     "metadata": {},
     "output_type": "execute_result"
    }
   ],
   "source": [
    "df[df.college == 'None'].iloc[0:4, :]"
   ]
  },
  {
   "cell_type": "markdown",
   "metadata": {},
   "source": [
    "Indeed, we can see that players with a college value of `None` include Kevin Garnett and Kobe Bryant who did not go to college. This validates our observation that players with no college listed did not attend college and went directly to the NBA. "
   ]
  },
  {
   "cell_type": "code",
   "execution_count": 122,
   "metadata": {},
   "outputs": [
    {
     "data": {
      "text/plain": [
       "Index             128\n",
       "name            93600\n",
       "team            93600\n",
       "age             93600\n",
       "height          93600\n",
       "weight          93600\n",
       "college         93600\n",
       "country         93600\n",
       "draft_year      93600\n",
       "draft_round     93600\n",
       "draft_number    93600\n",
       "games_played    93600\n",
       "avg_pts         93600\n",
       "avg_rebs        93600\n",
       "avg_asts        93600\n",
       "pt_diff         93600\n",
       "off_rebs        93600\n",
       "def_rebs        93600\n",
       "usg_pct         93600\n",
       "ts_pct          93600\n",
       "ast_pct         93600\n",
       "season          93600\n",
       "position        93600\n",
       "dtype: int64"
      ]
     },
     "execution_count": 122,
     "metadata": {},
     "output_type": "execute_result"
    }
   ],
   "source": [
    "df.memory_usage()"
   ]
  },
  {
   "cell_type": "code",
   "execution_count": 123,
   "metadata": {},
   "outputs": [
    {
     "data": {
      "text/plain": [
       "0"
      ]
     },
     "execution_count": 123,
     "metadata": {},
     "output_type": "execute_result"
    }
   ],
   "source": [
    "df.duplicated().sum()"
   ]
  },
  {
   "cell_type": "markdown",
   "metadata": {},
   "source": [
    "There are no duplicate rows in this dataset."
   ]
  },
  {
   "cell_type": "markdown",
   "metadata": {},
   "source": [
    "### Data Exploration"
   ]
  },
  {
   "cell_type": "markdown",
   "metadata": {},
   "source": [
    "**What is the geographical distribution of players?**"
   ]
  },
  {
   "cell_type": "markdown",
   "metadata": {},
   "source": [
    "The first question we will explore is the distribution of the birth country of players."
   ]
  },
  {
   "cell_type": "code",
   "execution_count": 124,
   "metadata": {},
   "outputs": [
    {
     "data": {
      "text/plain": [
       "USA                    9836\n",
       "France                  167\n",
       "Canada                  161\n",
       "Brazil                   83\n",
       "Australia                83\n",
       "                       ... \n",
       "USSR                      2\n",
       "Ghana                     1\n",
       "Trinidad and Tobago       1\n",
       "Sudan (UK)                1\n",
       "Guinea                    1\n",
       "Name: country, Length: 79, dtype: int64"
      ]
     },
     "execution_count": 124,
     "metadata": {},
     "output_type": "execute_result"
    }
   ],
   "source": [
    "df['country'].value_counts()"
   ]
  },
  {
   "cell_type": "markdown",
   "metadata": {},
   "source": [
    "Let's plot the distribution in a bar plot. Before doing so, we will filter out the countries with 30 or more players."
   ]
  },
  {
   "cell_type": "code",
   "execution_count": 125,
   "metadata": {},
   "outputs": [
    {
     "data": {
      "image/png": "[encoded data removed]",
      "text/plain": [
       "<Figure size 432x288 with 1 Axes>"
      ]
     },
     "metadata": {
      "needs_background": "light"
     },
     "output_type": "display_data"
    }
   ],
   "source": [
    "countries = df['country'].value_counts()\n",
    "# filter for countries with 30 or players\n",
    "countries = countries[countries >= 30]\n",
    "# log normalize by taking log of each value in series\n",
    "countries = countries.apply(np.log2).plot(kind='bar')\n",
    "plt.title('Distribution of Birth Country of Players')\n",
    "plt.ylabel('Log (Base 2) of Frequency')\n",
    "plt.xlabel('Country')\n",
    "plt.show()"
   ]
  },
  {
   "cell_type": "markdown",
   "metadata": {},
   "source": [
    "We conclude that the majority of players were born in states. This leads us to ask, however, how the proportion of international players who are playing in the league has changed over the years."
   ]
  },
  {
   "cell_type": "code",
   "execution_count": 195,
   "metadata": {},
   "outputs": [],
   "source": [
    "# find the total number of players per season\n",
    "total_players = df.groupby(\"season\")['country'].count()"
   ]
  },
  {
   "cell_type": "code",
   "execution_count": 196,
   "metadata": {},
   "outputs": [],
   "source": [
    "# find the total number of international players per season\n",
    "intl_players = df[df.country != 'USA'].groupby(\"season\")['country'].count()\n",
    "# computes proportion of non-USA players per season\n",
    "prop_intl_players = (intl_players/total_players).tolist()"
   ]
  },
  {
   "cell_type": "code",
   "execution_count": 202,
   "metadata": {
    "scrolled": true
   },
   "outputs": [],
   "source": [
    "def plot_stats_over_time(df, Y, title, xlabel, ylabel):\n",
    "    # gets the year from season\n",
    "    years = [int(season.split('-')[0]) for season in df.season.unique()]\n",
    "    plt.plot(years, Y, linestyle='solid', \n",
    "             marker='o', color='maroon', markersize=3.5)\n",
    "    plt.title(title)\n",
    "    plt.xlabel(xlabel)\n",
    "    plt.ylabel(ylabel)\n",
    "    plt.show()"
   ]
  },
  {
   "cell_type": "code",
   "execution_count": 197,
   "metadata": {},
   "outputs": [
    {
     "data": {
      "image/png": "[encoded data removed]",
      "text/plain": [
       "<Figure size 432x288 with 1 Axes>"
      ]
     },
     "metadata": {
      "needs_background": "light"
     },
     "output_type": "display_data"
    }
   ],
   "source": [
    "title = 'Change in Proportion of International Players From 1996-2020'\n",
    "xlabel = 'Year'\n",
    "ylabel = 'Proportion of International Players'\n",
    "plot_stats_over_time(df, prop_intl_players, title, xlabel, ylabel)"
   ]
  },
  {
   "cell_type": "markdown",
   "metadata": {},
   "source": [
    "This visualization is very insightful. From 1995 to 2020, we can clearly see a general increase in the *proportion* of players that are drafted who were not born in the US. This observation suggests that the percentage of international players who are drafted is increasing. With international players such as Luka Doncic and Giannis Antetekoumpo, the NBA has increasingly recognized the tremendous potential of talent abroad. As this [CBS article](https://www.cbssports.com/nba/news/infographics-international-players-taken-in-the-nba-draft-often-work-out/) states, \"the game has grown too far, too wide, become too popular across the planet to not see better and better players coming down the pike from across the oceans.\""
   ]
  },
  {
   "cell_type": "code",
   "execution_count": 206,
   "metadata": {},
   "outputs": [
    {
     "data": {
      "image/png": "[encoded data removed]",
      "text/plain": [
       "<Figure size 432x288 with 1 Axes>"
      ]
     },
     "metadata": {
      "needs_background": "light"
     },
     "output_type": "display_data"
    }
   ],
   "source": [
    "title = 'Change in Proportion of First-Round International Picks From 1996-2020'\n",
    "xlabel = 'Year'\n",
    "ylabel = 'Proportion of First-Round International Picks'\n",
    "intl_players_first_rd = df[(df.country != 'USA') & (df.draft_round == '1')].groupby(\"season\")['country'].count()\n",
    "prop_intl_players_first_rd = (intl_players_first_rd/total_players).tolist()\n",
    "plot_stats_over_time(df, prop_intl_players_first_rd, title, xlabel, ylabel)"
   ]
  },
  {
   "cell_type": "markdown",
   "metadata": {},
   "source": [
    "Same trend with first-round picks who are international players."
   ]
  },
  {
   "cell_type": "markdown",
   "metadata": {},
   "source": [
    "**Which variables are correlated with together?**"
   ]
  },
  {
   "cell_type": "code",
   "execution_count": 217,
   "metadata": {},
   "outputs": [
    {
     "data": {
      "image/png": "[encoded data removed]",
      "text/plain": [
       "<Figure size 432x288 with 1 Axes>"
      ]
     },
     "metadata": {
      "needs_background": "light"
     },
     "output_type": "display_data"
    }
   ],
   "source": [
    "plt.scatter(x=df.height, y=df.avg_rebs, color='green', s=1)\n",
    "plt.title('Average Rebounds vs. Height')\n",
    "plt.xlabel('Height (in cm)')\n",
    "plt.ylabel('Average Rebounds (per game)')\n",
    "plt.show()"
   ]
  },
  {
   "cell_type": "markdown",
   "metadata": {},
   "source": [
    "There seems to be a weak correlation between height and average number of rebounds grabbed in a game."
   ]
  },
  {
   "cell_type": "code",
   "execution_count": 218,
   "metadata": {},
   "outputs": [
    {
     "data": {
      "image/png": "[encoded data removed]",
      "text/plain": [
       "<Figure size 432x288 with 1 Axes>"
      ]
     },
     "metadata": {
      "needs_background": "light"
     },
     "output_type": "display_data"
    }
   ],
   "source": [
    "plt.scatter(x=df.weight, y=df.avg_rebs, color='orange', s=1)\n",
    "plt.title('Average Rebounds vs. Weight')\n",
    "plt.xlabel('Weight (in kg)')\n",
    "plt.ylabel('Average Rebounds (per game)')\n",
    "plt.show()"
   ]
  },
  {
   "cell_type": "markdown",
   "metadata": {},
   "source": [
    "Also seems to be a weak correlation between weight and average number of rebounds grabbed in a game."
   ]
  },
  {
   "cell_type": "code",
   "execution_count": 236,
   "metadata": {},
   "outputs": [
    {
     "data": {
      "image/png": "[encoded data removed]",
      "text/plain": [
       "<Figure size 864x864 with 2 Axes>"
      ]
     },
     "metadata": {
      "needs_background": "light"
     },
     "output_type": "display_data"
    }
   ],
   "source": [
    "corr = df.corr()\n",
    "matrix = np.triu(corr)\n",
    "_, ax = plt.subplots(figsize=(12,12))\n",
    "sns.heatmap(corr, annot=True, mask=matrix, ax=ax)\n",
    "plt.title(\"Correlation Matrix Between Numeric Variables\")\n",
    "plt.show()"
   ]
  },
  {
   "cell_type": "markdown",
   "metadata": {},
   "source": [
    "Importantly, we see that height and weight are both negatively correlated with assists but positively correlated with offensive and defensive rebounds. Average rebounds and assists are correlated with average points."
   ]
  },
  {
   "cell_type": "code",
   "execution_count": null,
   "metadata": {},
   "outputs": [],
   "source": []
  }
 ],
 "metadata": {
  "kernelspec": {
   "display_name": "Python 3 (ipykernel)",
   "language": "python",
   "name": "python3"
  },
  "language_info": {
   "codemirror_mode": {
    "name": "ipython",
    "version": 3
   },
   "file_extension": ".py",
   "mimetype": "text/x-python",
   "name": "python",
   "nbconvert_exporter": "python",
   "pygments_lexer": "ipython3",
   "version": "3.8.9"
  }
 },
 "nbformat": 4,
 "nbformat_minor": 2
}
